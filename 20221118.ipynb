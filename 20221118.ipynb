{
  "nbformat": 4,
  "nbformat_minor": 0,
  "metadata": {
    "colab": {
      "provenance": [],
      "authorship_tag": "ABX9TyOHBwc0njZmiF1kn63iVgzB",
      "include_colab_link": true
    },
    "kernelspec": {
      "name": "python3",
      "display_name": "Python 3"
    },
    "language_info": {
      "name": "python"
    }
  },
  "cells": [
    {
      "cell_type": "markdown",
      "metadata": {
        "id": "view-in-github",
        "colab_type": "text"
      },
      "source": [
        "<a href=\"https://colab.research.google.com/github/dongiklee2/class2022Fall/blob/main/20221118.ipynb\" target=\"_parent\"><img src=\"https://colab.research.google.com/assets/colab-badge.svg\" alt=\"Open In Colab\"/></a>"
      ]
    },
    {
      "cell_type": "code",
      "execution_count": null,
      "metadata": {
        "id": "WZvJD-GJVtKv"
      },
      "outputs": [],
      "source": [
        "!pip install gradio\n",
        "import gradio as gr\n",
        "import requests\n",
        "import pandas as pd\n",
        "\n",
        "!pip install xmltodict\n",
        "import json\n",
        "import xmltodict"
      ]
    },
    {
      "cell_type": "code",
      "source": [
        "bookID = 'S000000620181'\n",
        "url='https://product.kyobobook.co.kr/api/review/list?page=1&pageLimit=10&reviewSort=001&revwPatrCode=000&saleCmdtid='+bookID"
      ],
      "metadata": {
        "id": "gi3JZmg6WLUQ"
      },
      "execution_count": 32,
      "outputs": []
    },
    {
      "cell_type": "code",
      "source": [
        "json_txt = response.text\n",
        "dict_data = json.loads(json_txt)"
      ],
      "metadata": {
        "id": "raZprSPkWiWK"
      },
      "execution_count": 33,
      "outputs": []
    },
    {
      "cell_type": "code",
      "source": [
        "df = pd.DataFrame(dict_data['data']['reviewList'])\n",
        "df"
      ],
      "metadata": {
        "id": "g_q4iXsDWuFn"
      },
      "execution_count": null,
      "outputs": []
    },
    {
      "cell_type": "code",
      "source": [
        "def test(inputs):\n",
        "  url='https://product.kyobobook.co.kr/api/review/list?page=1&pageLimit=10&reviewSort=001&revwPatrCode=000&saleCmdtid='+bookID  \n",
        "  response = requests.get(url)\n",
        "  dict_data = json.loads(json_txt)\n",
        "  data = dict_data['data']['reviewList']\n",
        "\n",
        "  df = pd.DataFrame(data)\n",
        "  return df"
      ],
      "metadata": {
        "id": "LYcr1AvBZjfm"
      },
      "execution_count": 37,
      "outputs": []
    },
    {
      "cell_type": "code",
      "source": [
        "demo = gr.Interface(fn=test, inputs=[\"text\"], outputs=\"dataframe\")\n",
        "demo.launch(share=True)"
      ],
      "metadata": {
        "colab": {
          "base_uri": "https://localhost:8080/",
          "height": 647
        },
        "id": "8CElFkTYX2t6",
        "outputId": "ca057d95-2e8e-4da2-afad-c04208d13cf6"
      },
      "execution_count": 39,
      "outputs": [
        {
          "output_type": "stream",
          "name": "stdout",
          "text": [
            "Colab notebook detected. To show errors in colab notebook, set `debug=True` in `launch()`\n",
            "Running on public URL: https://1cf7dc6fbf0bbe33.gradio.app\n",
            "\n",
            "This share link expires in 72 hours. For free permanent hosting and GPU upgrades (NEW!), check out Spaces: https://huggingface.co/spaces\n"
          ]
        },
        {
          "output_type": "display_data",
          "data": {
            "text/plain": [
              "<IPython.core.display.HTML object>"
            ],
            "text/html": [
              "<div><iframe src=\"https://1cf7dc6fbf0bbe33.gradio.app\" width=\"100%\" height=\"500\" allow=\"autoplay; camera; microphone; clipboard-read; clipboard-write;\" frameborder=\"0\" allowfullscreen></iframe></div>"
            ]
          },
          "metadata": {}
        },
        {
          "output_type": "execute_result",
          "data": {
            "text/plain": [
              "(<gradio.routes.App at 0x7f0f93556b50>,\n",
              " 'http://127.0.0.1:7870/',\n",
              " 'https://1cf7dc6fbf0bbe33.gradio.app')"
            ]
          },
          "metadata": {},
          "execution_count": 39
        }
      ]
    }
  ]
}